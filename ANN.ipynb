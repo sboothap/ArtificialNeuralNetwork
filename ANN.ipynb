{
 "cells": [
  {
   "cell_type": "code",
   "execution_count": 1,
   "metadata": {},
   "outputs": [],
   "source": [
    "import numpy as np"
   ]
  },
  {
   "cell_type": "code",
   "execution_count": 2,
   "metadata": {},
   "outputs": [],
   "source": [
    "import pandas as pd"
   ]
  },
  {
   "cell_type": "code",
   "execution_count": 3,
   "metadata": {},
   "outputs": [],
   "source": [
    "data=pd.read_csv('Churn_Modelling.csv')"
   ]
  },
  {
   "cell_type": "code",
   "execution_count": 4,
   "metadata": {},
   "outputs": [
    {
     "data": {
      "text/plain": [
       "(10000, 14)"
      ]
     },
     "execution_count": 4,
     "metadata": {},
     "output_type": "execute_result"
    }
   ],
   "source": [
    "data.shape"
   ]
  },
  {
   "cell_type": "code",
   "execution_count": 5,
   "metadata": {},
   "outputs": [
    {
     "data": {
      "text/html": [
       "<div>\n",
       "<style scoped>\n",
       "    .dataframe tbody tr th:only-of-type {\n",
       "        vertical-align: middle;\n",
       "    }\n",
       "\n",
       "    .dataframe tbody tr th {\n",
       "        vertical-align: top;\n",
       "    }\n",
       "\n",
       "    .dataframe thead th {\n",
       "        text-align: right;\n",
       "    }\n",
       "</style>\n",
       "<table border=\"1\" class=\"dataframe\">\n",
       "  <thead>\n",
       "    <tr style=\"text-align: right;\">\n",
       "      <th></th>\n",
       "      <th>RowNumber</th>\n",
       "      <th>CustomerId</th>\n",
       "      <th>Surname</th>\n",
       "      <th>CreditScore</th>\n",
       "      <th>Geography</th>\n",
       "      <th>Gender</th>\n",
       "      <th>Age</th>\n",
       "      <th>Tenure</th>\n",
       "      <th>Balance</th>\n",
       "      <th>NumOfProducts</th>\n",
       "      <th>HasCrCard</th>\n",
       "      <th>IsActiveMember</th>\n",
       "      <th>EstimatedSalary</th>\n",
       "      <th>Exited</th>\n",
       "    </tr>\n",
       "  </thead>\n",
       "  <tbody>\n",
       "    <tr>\n",
       "      <th>0</th>\n",
       "      <td>1</td>\n",
       "      <td>15634602</td>\n",
       "      <td>Hargrave</td>\n",
       "      <td>619</td>\n",
       "      <td>France</td>\n",
       "      <td>Female</td>\n",
       "      <td>42</td>\n",
       "      <td>2</td>\n",
       "      <td>0.00</td>\n",
       "      <td>1</td>\n",
       "      <td>1</td>\n",
       "      <td>1</td>\n",
       "      <td>101348.88</td>\n",
       "      <td>1</td>\n",
       "    </tr>\n",
       "    <tr>\n",
       "      <th>1</th>\n",
       "      <td>2</td>\n",
       "      <td>15647311</td>\n",
       "      <td>Hill</td>\n",
       "      <td>608</td>\n",
       "      <td>Spain</td>\n",
       "      <td>Female</td>\n",
       "      <td>41</td>\n",
       "      <td>1</td>\n",
       "      <td>83807.86</td>\n",
       "      <td>1</td>\n",
       "      <td>0</td>\n",
       "      <td>1</td>\n",
       "      <td>112542.58</td>\n",
       "      <td>0</td>\n",
       "    </tr>\n",
       "    <tr>\n",
       "      <th>2</th>\n",
       "      <td>3</td>\n",
       "      <td>15619304</td>\n",
       "      <td>Onio</td>\n",
       "      <td>502</td>\n",
       "      <td>France</td>\n",
       "      <td>Female</td>\n",
       "      <td>42</td>\n",
       "      <td>8</td>\n",
       "      <td>159660.80</td>\n",
       "      <td>3</td>\n",
       "      <td>1</td>\n",
       "      <td>0</td>\n",
       "      <td>113931.57</td>\n",
       "      <td>1</td>\n",
       "    </tr>\n",
       "    <tr>\n",
       "      <th>3</th>\n",
       "      <td>4</td>\n",
       "      <td>15701354</td>\n",
       "      <td>Boni</td>\n",
       "      <td>699</td>\n",
       "      <td>France</td>\n",
       "      <td>Female</td>\n",
       "      <td>39</td>\n",
       "      <td>1</td>\n",
       "      <td>0.00</td>\n",
       "      <td>2</td>\n",
       "      <td>0</td>\n",
       "      <td>0</td>\n",
       "      <td>93826.63</td>\n",
       "      <td>0</td>\n",
       "    </tr>\n",
       "    <tr>\n",
       "      <th>4</th>\n",
       "      <td>5</td>\n",
       "      <td>15737888</td>\n",
       "      <td>Mitchell</td>\n",
       "      <td>850</td>\n",
       "      <td>Spain</td>\n",
       "      <td>Female</td>\n",
       "      <td>43</td>\n",
       "      <td>2</td>\n",
       "      <td>125510.82</td>\n",
       "      <td>1</td>\n",
       "      <td>1</td>\n",
       "      <td>1</td>\n",
       "      <td>79084.10</td>\n",
       "      <td>0</td>\n",
       "    </tr>\n",
       "  </tbody>\n",
       "</table>\n",
       "</div>"
      ],
      "text/plain": [
       "   RowNumber  CustomerId   Surname  CreditScore Geography  Gender  Age  \\\n",
       "0          1    15634602  Hargrave          619    France  Female   42   \n",
       "1          2    15647311      Hill          608     Spain  Female   41   \n",
       "2          3    15619304      Onio          502    France  Female   42   \n",
       "3          4    15701354      Boni          699    France  Female   39   \n",
       "4          5    15737888  Mitchell          850     Spain  Female   43   \n",
       "\n",
       "   Tenure    Balance  NumOfProducts  HasCrCard  IsActiveMember  \\\n",
       "0       2       0.00              1          1               1   \n",
       "1       1   83807.86              1          0               1   \n",
       "2       8  159660.80              3          1               0   \n",
       "3       1       0.00              2          0               0   \n",
       "4       2  125510.82              1          1               1   \n",
       "\n",
       "   EstimatedSalary  Exited  \n",
       "0        101348.88       1  \n",
       "1        112542.58       0  \n",
       "2        113931.57       1  \n",
       "3         93826.63       0  \n",
       "4         79084.10       0  "
      ]
     },
     "execution_count": 5,
     "metadata": {},
     "output_type": "execute_result"
    }
   ],
   "source": [
    "data.head()"
   ]
  },
  {
   "cell_type": "code",
   "execution_count": 6,
   "metadata": {},
   "outputs": [],
   "source": [
    "y= data.iloc[:,-1]"
   ]
  },
  {
   "cell_type": "code",
   "execution_count": 7,
   "metadata": {},
   "outputs": [
    {
     "data": {
      "text/plain": [
       "(10000,)"
      ]
     },
     "execution_count": 7,
     "metadata": {},
     "output_type": "execute_result"
    }
   ],
   "source": [
    "y.shape"
   ]
  },
  {
   "cell_type": "code",
   "execution_count": 8,
   "metadata": {},
   "outputs": [
    {
     "data": {
      "text/plain": [
       "0       1\n",
       "1       0\n",
       "2       1\n",
       "3       0\n",
       "4       0\n",
       "5       1\n",
       "6       0\n",
       "7       1\n",
       "8       0\n",
       "9       0\n",
       "10      0\n",
       "11      0\n",
       "12      0\n",
       "13      0\n",
       "14      0\n",
       "15      0\n",
       "16      1\n",
       "17      0\n",
       "18      0\n",
       "19      0\n",
       "20      0\n",
       "21      0\n",
       "22      1\n",
       "23      0\n",
       "24      0\n",
       "25      0\n",
       "26      0\n",
       "27      0\n",
       "28      0\n",
       "29      0\n",
       "       ..\n",
       "9970    0\n",
       "9971    0\n",
       "9972    0\n",
       "9973    0\n",
       "9974    0\n",
       "9975    1\n",
       "9976    0\n",
       "9977    0\n",
       "9978    0\n",
       "9979    0\n",
       "9980    0\n",
       "9981    1\n",
       "9982    1\n",
       "9983    0\n",
       "9984    0\n",
       "9985    0\n",
       "9986    0\n",
       "9987    0\n",
       "9988    0\n",
       "9989    0\n",
       "9990    0\n",
       "9991    1\n",
       "9992    0\n",
       "9993    0\n",
       "9994    0\n",
       "9995    0\n",
       "9996    0\n",
       "9997    1\n",
       "9998    1\n",
       "9999    0\n",
       "Name: Exited, Length: 10000, dtype: int64"
      ]
     },
     "execution_count": 8,
     "metadata": {},
     "output_type": "execute_result"
    }
   ],
   "source": [
    "y"
   ]
  },
  {
   "cell_type": "code",
   "execution_count": 9,
   "metadata": {},
   "outputs": [
    {
     "data": {
      "text/html": [
       "<div>\n",
       "<style scoped>\n",
       "    .dataframe tbody tr th:only-of-type {\n",
       "        vertical-align: middle;\n",
       "    }\n",
       "\n",
       "    .dataframe tbody tr th {\n",
       "        vertical-align: top;\n",
       "    }\n",
       "\n",
       "    .dataframe thead th {\n",
       "        text-align: right;\n",
       "    }\n",
       "</style>\n",
       "<table border=\"1\" class=\"dataframe\">\n",
       "  <thead>\n",
       "    <tr style=\"text-align: right;\">\n",
       "      <th></th>\n",
       "      <th>RowNumber</th>\n",
       "      <th>CustomerId</th>\n",
       "      <th>Surname</th>\n",
       "      <th>CreditScore</th>\n",
       "      <th>Geography</th>\n",
       "      <th>Gender</th>\n",
       "      <th>Age</th>\n",
       "      <th>Tenure</th>\n",
       "      <th>Balance</th>\n",
       "      <th>NumOfProducts</th>\n",
       "      <th>HasCrCard</th>\n",
       "      <th>IsActiveMember</th>\n",
       "      <th>EstimatedSalary</th>\n",
       "      <th>Exited</th>\n",
       "    </tr>\n",
       "  </thead>\n",
       "  <tbody>\n",
       "    <tr>\n",
       "      <th>0</th>\n",
       "      <td>1</td>\n",
       "      <td>15634602</td>\n",
       "      <td>Hargrave</td>\n",
       "      <td>619</td>\n",
       "      <td>France</td>\n",
       "      <td>Female</td>\n",
       "      <td>42</td>\n",
       "      <td>2</td>\n",
       "      <td>0.00</td>\n",
       "      <td>1</td>\n",
       "      <td>1</td>\n",
       "      <td>1</td>\n",
       "      <td>101348.88</td>\n",
       "      <td>1</td>\n",
       "    </tr>\n",
       "    <tr>\n",
       "      <th>1</th>\n",
       "      <td>2</td>\n",
       "      <td>15647311</td>\n",
       "      <td>Hill</td>\n",
       "      <td>608</td>\n",
       "      <td>Spain</td>\n",
       "      <td>Female</td>\n",
       "      <td>41</td>\n",
       "      <td>1</td>\n",
       "      <td>83807.86</td>\n",
       "      <td>1</td>\n",
       "      <td>0</td>\n",
       "      <td>1</td>\n",
       "      <td>112542.58</td>\n",
       "      <td>0</td>\n",
       "    </tr>\n",
       "    <tr>\n",
       "      <th>2</th>\n",
       "      <td>3</td>\n",
       "      <td>15619304</td>\n",
       "      <td>Onio</td>\n",
       "      <td>502</td>\n",
       "      <td>France</td>\n",
       "      <td>Female</td>\n",
       "      <td>42</td>\n",
       "      <td>8</td>\n",
       "      <td>159660.80</td>\n",
       "      <td>3</td>\n",
       "      <td>1</td>\n",
       "      <td>0</td>\n",
       "      <td>113931.57</td>\n",
       "      <td>1</td>\n",
       "    </tr>\n",
       "    <tr>\n",
       "      <th>3</th>\n",
       "      <td>4</td>\n",
       "      <td>15701354</td>\n",
       "      <td>Boni</td>\n",
       "      <td>699</td>\n",
       "      <td>France</td>\n",
       "      <td>Female</td>\n",
       "      <td>39</td>\n",
       "      <td>1</td>\n",
       "      <td>0.00</td>\n",
       "      <td>2</td>\n",
       "      <td>0</td>\n",
       "      <td>0</td>\n",
       "      <td>93826.63</td>\n",
       "      <td>0</td>\n",
       "    </tr>\n",
       "    <tr>\n",
       "      <th>4</th>\n",
       "      <td>5</td>\n",
       "      <td>15737888</td>\n",
       "      <td>Mitchell</td>\n",
       "      <td>850</td>\n",
       "      <td>Spain</td>\n",
       "      <td>Female</td>\n",
       "      <td>43</td>\n",
       "      <td>2</td>\n",
       "      <td>125510.82</td>\n",
       "      <td>1</td>\n",
       "      <td>1</td>\n",
       "      <td>1</td>\n",
       "      <td>79084.10</td>\n",
       "      <td>0</td>\n",
       "    </tr>\n",
       "  </tbody>\n",
       "</table>\n",
       "</div>"
      ],
      "text/plain": [
       "   RowNumber  CustomerId   Surname  CreditScore Geography  Gender  Age  \\\n",
       "0          1    15634602  Hargrave          619    France  Female   42   \n",
       "1          2    15647311      Hill          608     Spain  Female   41   \n",
       "2          3    15619304      Onio          502    France  Female   42   \n",
       "3          4    15701354      Boni          699    France  Female   39   \n",
       "4          5    15737888  Mitchell          850     Spain  Female   43   \n",
       "\n",
       "   Tenure    Balance  NumOfProducts  HasCrCard  IsActiveMember  \\\n",
       "0       2       0.00              1          1               1   \n",
       "1       1   83807.86              1          0               1   \n",
       "2       8  159660.80              3          1               0   \n",
       "3       1       0.00              2          0               0   \n",
       "4       2  125510.82              1          1               1   \n",
       "\n",
       "   EstimatedSalary  Exited  \n",
       "0        101348.88       1  \n",
       "1        112542.58       0  \n",
       "2        113931.57       1  \n",
       "3         93826.63       0  \n",
       "4         79084.10       0  "
      ]
     },
     "execution_count": 9,
     "metadata": {},
     "output_type": "execute_result"
    }
   ],
   "source": [
    "data.head()"
   ]
  },
  {
   "cell_type": "code",
   "execution_count": 10,
   "metadata": {},
   "outputs": [],
   "source": [
    "X= data.iloc[:,3:-1].values"
   ]
  },
  {
   "cell_type": "code",
   "execution_count": 11,
   "metadata": {},
   "outputs": [],
   "source": [
    "#Encoding"
   ]
  },
  {
   "cell_type": "code",
   "execution_count": 12,
   "metadata": {},
   "outputs": [],
   "source": [
    "from sklearn.preprocessing import LabelEncoder, OneHotEncoder"
   ]
  },
  {
   "cell_type": "code",
   "execution_count": 13,
   "metadata": {},
   "outputs": [],
   "source": [
    "labelEncoder_X_1 = LabelEncoder()"
   ]
  },
  {
   "cell_type": "code",
   "execution_count": 14,
   "metadata": {},
   "outputs": [],
   "source": [
    "X[:,1]=labelEncoder_X_1.fit_transform(X[:,1])"
   ]
  },
  {
   "cell_type": "code",
   "execution_count": 15,
   "metadata": {},
   "outputs": [],
   "source": [
    "labelEncoder_X_2 = LabelEncoder()"
   ]
  },
  {
   "cell_type": "code",
   "execution_count": 16,
   "metadata": {},
   "outputs": [],
   "source": [
    "X[:,2]=labelEncoder_X_1.fit_transform(X[:,2])"
   ]
  },
  {
   "cell_type": "code",
   "execution_count": 17,
   "metadata": {},
   "outputs": [],
   "source": [
    "oneHotEncoder = OneHotEncoder(categorical_features=[1])"
   ]
  },
  {
   "cell_type": "code",
   "execution_count": 18,
   "metadata": {},
   "outputs": [
    {
     "name": "stderr",
     "output_type": "stream",
     "text": [
      "C:\\Users\\ysxb118\\AppData\\Local\\Continuum\\anaconda3\\lib\\site-packages\\sklearn\\preprocessing\\_encoders.py:371: FutureWarning: The handling of integer data will change in version 0.22. Currently, the categories are determined based on the range [0, max(values)], while in the future they will be determined based on the unique values.\n",
      "If you want the future behaviour and silence this warning, you can specify \"categories='auto'\".\n",
      "In case you used a LabelEncoder before this OneHotEncoder to convert the categories to integers, then you can now use the OneHotEncoder directly.\n",
      "  warnings.warn(msg, FutureWarning)\n",
      "C:\\Users\\ysxb118\\AppData\\Local\\Continuum\\anaconda3\\lib\\site-packages\\sklearn\\preprocessing\\_encoders.py:392: DeprecationWarning: The 'categorical_features' keyword is deprecated in version 0.20 and will be removed in 0.22. You can use the ColumnTransformer instead.\n",
      "  \"use the ColumnTransformer instead.\", DeprecationWarning)\n"
     ]
    }
   ],
   "source": [
    "X= oneHotEncoder.fit_transform(X).toarray()"
   ]
  },
  {
   "cell_type": "code",
   "execution_count": 19,
   "metadata": {},
   "outputs": [],
   "source": [
    "X = X[:,1:]"
   ]
  },
  {
   "cell_type": "code",
   "execution_count": 20,
   "metadata": {},
   "outputs": [],
   "source": [
    "from sklearn.model_selection import train_test_split"
   ]
  },
  {
   "cell_type": "code",
   "execution_count": 21,
   "metadata": {},
   "outputs": [],
   "source": [
    "X_train, X_test,y_train, y_test = train_test_split(X, y, test_size =0.2, random_state = 0)"
   ]
  },
  {
   "cell_type": "code",
   "execution_count": 22,
   "metadata": {},
   "outputs": [],
   "source": [
    "#feature scaling"
   ]
  },
  {
   "cell_type": "code",
   "execution_count": 23,
   "metadata": {},
   "outputs": [],
   "source": [
    "from sklearn.preprocessing import StandardScaler"
   ]
  },
  {
   "cell_type": "code",
   "execution_count": 24,
   "metadata": {},
   "outputs": [],
   "source": [
    "sc= StandardScaler()"
   ]
  },
  {
   "cell_type": "code",
   "execution_count": 25,
   "metadata": {},
   "outputs": [],
   "source": [
    "X_train = sc.fit_transform(X_train)"
   ]
  },
  {
   "cell_type": "code",
   "execution_count": 26,
   "metadata": {},
   "outputs": [],
   "source": [
    "X_test = sc.transform(X_test)"
   ]
  },
  {
   "cell_type": "code",
   "execution_count": 27,
   "metadata": {},
   "outputs": [],
   "source": [
    "#Artifical Neural Network"
   ]
  },
  {
   "cell_type": "code",
   "execution_count": 28,
   "metadata": {},
   "outputs": [
    {
     "name": "stderr",
     "output_type": "stream",
     "text": [
      "Using TensorFlow backend.\n"
     ]
    }
   ],
   "source": [
    "import keras"
   ]
  },
  {
   "cell_type": "code",
   "execution_count": 29,
   "metadata": {},
   "outputs": [],
   "source": [
    "from keras.models import Sequential\n",
    "from keras.layers import Dense"
   ]
  },
  {
   "cell_type": "code",
   "execution_count": 30,
   "metadata": {},
   "outputs": [],
   "source": [
    "#Initializing the ANN"
   ]
  },
  {
   "cell_type": "code",
   "execution_count": 31,
   "metadata": {},
   "outputs": [],
   "source": [
    "#defining as a sequence of layers"
   ]
  },
  {
   "cell_type": "code",
   "execution_count": 32,
   "metadata": {},
   "outputs": [],
   "source": [
    "#Neural network model is going to be a classifier"
   ]
  },
  {
   "cell_type": "code",
   "execution_count": 33,
   "metadata": {},
   "outputs": [],
   "source": [
    "classifier = Sequential()"
   ]
  },
  {
   "cell_type": "code",
   "execution_count": 34,
   "metadata": {},
   "outputs": [],
   "source": [
    "#add the first layers( input layer and first hidden layer)"
   ]
  },
  {
   "cell_type": "code",
   "execution_count": 35,
   "metadata": {},
   "outputs": [
    {
     "data": {
      "text/plain": [
       "(8000, 11)"
      ]
     },
     "execution_count": 35,
     "metadata": {},
     "output_type": "execute_result"
    }
   ],
   "source": [
    "X_train.shape"
   ]
  },
  {
   "cell_type": "code",
   "execution_count": 36,
   "metadata": {},
   "outputs": [],
   "source": [
    "#input layer and first hidden layer"
   ]
  },
  {
   "cell_type": "code",
   "execution_count": 37,
   "metadata": {},
   "outputs": [
    {
     "name": "stdout",
     "output_type": "stream",
     "text": [
      "WARNING:tensorflow:From C:\\Users\\ysxb118\\AppData\\Local\\Continuum\\anaconda3\\lib\\site-packages\\tensorflow\\python\\framework\\op_def_library.py:263: colocate_with (from tensorflow.python.framework.ops) is deprecated and will be removed in a future version.\n",
      "Instructions for updating:\n",
      "Colocations handled automatically by placer.\n"
     ]
    }
   ],
   "source": [
    "classifier.add(Dense(units = 6, kernel_initializer = 'uniform', activation='relu', input_dim = 11))"
   ]
  },
  {
   "cell_type": "code",
   "execution_count": 38,
   "metadata": {},
   "outputs": [],
   "source": [
    "#adding the second layer"
   ]
  },
  {
   "cell_type": "code",
   "execution_count": 39,
   "metadata": {},
   "outputs": [],
   "source": [
    "classifier.add(Dense(units = 6, kernel_initializer = 'uniform', activation='relu'))"
   ]
  },
  {
   "cell_type": "code",
   "execution_count": 40,
   "metadata": {},
   "outputs": [],
   "source": [
    "#Adding the output layer"
   ]
  },
  {
   "cell_type": "code",
   "execution_count": 41,
   "metadata": {},
   "outputs": [],
   "source": [
    "classifier.add(Dense(units = 1, kernel_initializer = 'uniform', activation='sigmoid'))"
   ]
  },
  {
   "cell_type": "code",
   "execution_count": 42,
   "metadata": {},
   "outputs": [],
   "source": [
    "#parameter tuning: kfold validation: crossvalidation set: experiment different models with different parameters"
   ]
  },
  {
   "cell_type": "code",
   "execution_count": 43,
   "metadata": {},
   "outputs": [],
   "source": [
    "#Compiling the ANN with stochastic Gradient Descent"
   ]
  },
  {
   "cell_type": "code",
   "execution_count": 44,
   "metadata": {},
   "outputs": [],
   "source": [
    "classifier.compile(optimizer='adam', loss = 'binary_crossentropy', metrics =['accuracy'])"
   ]
  },
  {
   "cell_type": "code",
   "execution_count": 45,
   "metadata": {},
   "outputs": [],
   "source": [
    "#fitting the ANN to the training set"
   ]
  },
  {
   "cell_type": "code",
   "execution_count": 46,
   "metadata": {},
   "outputs": [
    {
     "name": "stdout",
     "output_type": "stream",
     "text": [
      "WARNING:tensorflow:From C:\\Users\\ysxb118\\AppData\\Local\\Continuum\\anaconda3\\lib\\site-packages\\tensorflow\\python\\ops\\math_ops.py:3066: to_int32 (from tensorflow.python.ops.math_ops) is deprecated and will be removed in a future version.\n",
      "Instructions for updating:\n",
      "Use tf.cast instead.\n",
      "Epoch 1/100\n",
      "8000/8000 [==============================] - 2s 199us/step - loss: 0.4856 - acc: 0.7980\n",
      "Epoch 2/100\n",
      "8000/8000 [==============================] - 1s 162us/step - loss: 0.4077 - acc: 0.8096\n",
      "Epoch 3/100\n",
      "8000/8000 [==============================] - 1s 182us/step - loss: 0.3794 - acc: 0.8350\n",
      "Epoch 4/100\n",
      "8000/8000 [==============================] - 1s 151us/step - loss: 0.3615 - acc: 0.8535\n",
      "Epoch 5/100\n",
      "8000/8000 [==============================] - 1s 151us/step - loss: 0.3534 - acc: 0.8576\n",
      "Epoch 6/100\n",
      "8000/8000 [==============================] - 1s 150us/step - loss: 0.3491 - acc: 0.8607\n",
      "Epoch 7/100\n",
      "8000/8000 [==============================] - 1s 155us/step - loss: 0.3470 - acc: 0.8605\n",
      "Epoch 8/100\n",
      "8000/8000 [==============================] - 1s 151us/step - loss: 0.3456 - acc: 0.8609\n",
      "Epoch 9/100\n",
      "8000/8000 [==============================] - 1s 154us/step - loss: 0.3449 - acc: 0.8610\n",
      "Epoch 10/100\n",
      "8000/8000 [==============================] - 2s 200us/step - loss: 0.3441 - acc: 0.8579\n",
      "Epoch 11/100\n",
      "8000/8000 [==============================] - 2s 247us/step - loss: 0.3431 - acc: 0.8600\n",
      "Epoch 12/100\n",
      "8000/8000 [==============================] - 2s 257us/step - loss: 0.3426 - acc: 0.8610\n",
      "Epoch 13/100\n",
      "8000/8000 [==============================] - 2s 208us/step - loss: 0.3427 - acc: 0.8592\n",
      "Epoch 14/100\n",
      "8000/8000 [==============================] - 1s 186us/step - loss: 0.3421 - acc: 0.8591\n",
      "Epoch 15/100\n",
      "8000/8000 [==============================] - 1s 157us/step - loss: 0.3413 - acc: 0.8614\n",
      "Epoch 16/100\n",
      "8000/8000 [==============================] - 1s 184us/step - loss: 0.3417 - acc: 0.8614\n",
      "Epoch 17/100\n",
      "8000/8000 [==============================] - 2s 193us/step - loss: 0.3411 - acc: 0.8606\n",
      "Epoch 18/100\n",
      "8000/8000 [==============================] - 1s 146us/step - loss: 0.3406 - acc: 0.8610\n",
      "Epoch 19/100\n",
      "8000/8000 [==============================] - 1s 146us/step - loss: 0.3403 - acc: 0.8604\n",
      "Epoch 20/100\n",
      "8000/8000 [==============================] - 1s 148us/step - loss: 0.3397 - acc: 0.8605\n",
      "Epoch 21/100\n",
      "8000/8000 [==============================] - 1s 148us/step - loss: 0.3401 - acc: 0.8599\n",
      "Epoch 22/100\n",
      "8000/8000 [==============================] - 1s 149us/step - loss: 0.3400 - acc: 0.8600\n",
      "Epoch 23/100\n",
      "8000/8000 [==============================] - 1s 151us/step - loss: 0.3392 - acc: 0.8595\n",
      "Epoch 24/100\n",
      "8000/8000 [==============================] - 1s 152us/step - loss: 0.3394 - acc: 0.8615\n",
      "Epoch 25/100\n",
      "8000/8000 [==============================] - 1s 153us/step - loss: 0.3395 - acc: 0.8606\n",
      "Epoch 26/100\n",
      "8000/8000 [==============================] - 1s 150us/step - loss: 0.3381 - acc: 0.8615\n",
      "Epoch 27/100\n",
      "8000/8000 [==============================] - 1s 154us/step - loss: 0.3388 - acc: 0.8614 1s - los\n",
      "Epoch 28/100\n",
      "8000/8000 [==============================] - 1s 150us/step - loss: 0.3388 - acc: 0.8621\n",
      "Epoch 29/100\n",
      "8000/8000 [==============================] - 1s 173us/step - loss: 0.3390 - acc: 0.8634\n",
      "Epoch 30/100\n",
      "8000/8000 [==============================] - 1s 178us/step - loss: 0.3383 - acc: 0.8617\n",
      "Epoch 31/100\n",
      "8000/8000 [==============================] - 1s 179us/step - loss: 0.3386 - acc: 0.8605\n",
      "Epoch 32/100\n",
      "8000/8000 [==============================] - 1s 155us/step - loss: 0.3379 - acc: 0.8621\n",
      "Epoch 33/100\n",
      "8000/8000 [==============================] - 1s 159us/step - loss: 0.3384 - acc: 0.8620\n",
      "Epoch 34/100\n",
      "8000/8000 [==============================] - 1s 158us/step - loss: 0.3380 - acc: 0.8615\n",
      "Epoch 35/100\n",
      "8000/8000 [==============================] - 1s 161us/step - loss: 0.3383 - acc: 0.8610\n",
      "Epoch 36/100\n",
      "8000/8000 [==============================] - 1s 165us/step - loss: 0.3383 - acc: 0.8622\n",
      "Epoch 37/100\n",
      "8000/8000 [==============================] - 1s 146us/step - loss: 0.3381 - acc: 0.8624\n",
      "Epoch 38/100\n",
      "8000/8000 [==============================] - 1s 172us/step - loss: 0.3378 - acc: 0.8635\n",
      "Epoch 39/100\n",
      "8000/8000 [==============================] - 1s 149us/step - loss: 0.3376 - acc: 0.8630\n",
      "Epoch 40/100\n",
      "8000/8000 [==============================] - 1s 175us/step - loss: 0.3376 - acc: 0.8625\n",
      "Epoch 41/100\n",
      "8000/8000 [==============================] - 1s 153us/step - loss: 0.3374 - acc: 0.8612\n",
      "Epoch 42/100\n",
      "8000/8000 [==============================] - 1s 146us/step - loss: 0.3372 - acc: 0.8612\n",
      "Epoch 43/100\n",
      "8000/8000 [==============================] - 1s 151us/step - loss: 0.3368 - acc: 0.8626\n",
      "Epoch 44/100\n",
      "8000/8000 [==============================] - 1s 152us/step - loss: 0.3370 - acc: 0.8630\n",
      "Epoch 45/100\n",
      "8000/8000 [==============================] - 1s 150us/step - loss: 0.3369 - acc: 0.8634\n",
      "Epoch 46/100\n",
      "8000/8000 [==============================] - 1s 152us/step - loss: 0.3362 - acc: 0.8626\n",
      "Epoch 47/100\n",
      "8000/8000 [==============================] - 1s 155us/step - loss: 0.3370 - acc: 0.8632\n",
      "Epoch 48/100\n",
      "8000/8000 [==============================] - 1s 154us/step - loss: 0.3364 - acc: 0.8627\n",
      "Epoch 49/100\n",
      "8000/8000 [==============================] - 1s 155us/step - loss: 0.3370 - acc: 0.8622\n",
      "Epoch 50/100\n",
      "8000/8000 [==============================] - 1s 159us/step - loss: 0.3362 - acc: 0.8625\n",
      "Epoch 51/100\n",
      "8000/8000 [==============================] - 1s 157us/step - loss: 0.3364 - acc: 0.8626\n",
      "Epoch 52/100\n",
      "8000/8000 [==============================] - 1s 160us/step - loss: 0.3360 - acc: 0.8640\n",
      "Epoch 53/100\n",
      "8000/8000 [==============================] - ETA: 0s - loss: 0.3360 - acc: 0.863 - 1s 152us/step - loss: 0.3365 - acc: 0.8630\n",
      "Epoch 54/100\n",
      "8000/8000 [==============================] - 1s 145us/step - loss: 0.3362 - acc: 0.8632\n",
      "Epoch 55/100\n",
      "8000/8000 [==============================] - 1s 147us/step - loss: 0.3361 - acc: 0.8622\n",
      "Epoch 56/100\n",
      "8000/8000 [==============================] - 1s 156us/step - loss: 0.3371 - acc: 0.8624\n",
      "Epoch 57/100\n",
      "8000/8000 [==============================] - 1s 149us/step - loss: 0.3365 - acc: 0.8629\n",
      "Epoch 58/100\n",
      "8000/8000 [==============================] - 1s 151us/step - loss: 0.3361 - acc: 0.8615\n",
      "Epoch 59/100\n",
      "8000/8000 [==============================] - 1s 151us/step - loss: 0.3365 - acc: 0.8634\n",
      "Epoch 60/100\n",
      "8000/8000 [==============================] - 1s 179us/step - loss: 0.3361 - acc: 0.8639\n",
      "Epoch 61/100\n",
      "8000/8000 [==============================] - 1s 159us/step - loss: 0.3364 - acc: 0.8627\n",
      "Epoch 62/100\n",
      "8000/8000 [==============================] - 1s 151us/step - loss: 0.3364 - acc: 0.8640\n",
      "Epoch 63/100\n",
      "8000/8000 [==============================] - 1s 151us/step - loss: 0.3355 - acc: 0.8635\n",
      "Epoch 64/100\n",
      "8000/8000 [==============================] - 1s 152us/step - loss: 0.3363 - acc: 0.8626\n",
      "Epoch 65/100\n",
      "8000/8000 [==============================] - 1s 158us/step - loss: 0.3367 - acc: 0.8640\n",
      "Epoch 66/100\n",
      "8000/8000 [==============================] - 1s 156us/step - loss: 0.3360 - acc: 0.8629\n",
      "Epoch 67/100\n",
      "8000/8000 [==============================] - 1s 152us/step - loss: 0.3361 - acc: 0.8637\n",
      "Epoch 68/100\n",
      "8000/8000 [==============================] - 1s 155us/step - loss: 0.3359 - acc: 0.8634\n",
      "Epoch 69/100\n",
      "8000/8000 [==============================] - 1s 155us/step - loss: 0.3358 - acc: 0.8630\n",
      "Epoch 70/100\n",
      "8000/8000 [==============================] - 1s 159us/step - loss: 0.3362 - acc: 0.8616\n",
      "Epoch 71/100\n",
      "8000/8000 [==============================] - 1s 161us/step - loss: 0.3357 - acc: 0.8642\n",
      "Epoch 72/100\n",
      "8000/8000 [==============================] - 1s 170us/step - loss: 0.3362 - acc: 0.8639\n",
      "Epoch 73/100\n",
      "8000/8000 [==============================] - 1s 162us/step - loss: 0.3357 - acc: 0.8621\n",
      "Epoch 74/100\n",
      "8000/8000 [==============================] - 1s 169us/step - loss: 0.3361 - acc: 0.8625\n",
      "Epoch 75/100\n",
      "8000/8000 [==============================] - 1s 157us/step - loss: 0.3362 - acc: 0.8632\n",
      "Epoch 76/100\n",
      "8000/8000 [==============================] - 1s 152us/step - loss: 0.3361 - acc: 0.8626\n",
      "Epoch 77/100\n",
      "8000/8000 [==============================] - 1s 152us/step - loss: 0.3365 - acc: 0.8639\n",
      "Epoch 78/100\n",
      "8000/8000 [==============================] - 1s 154us/step - loss: 0.3353 - acc: 0.8651\n"
     ]
    },
    {
     "name": "stdout",
     "output_type": "stream",
     "text": [
      "Epoch 79/100\n",
      "8000/8000 [==============================] - 1s 150us/step - loss: 0.3361 - acc: 0.8641\n",
      "Epoch 80/100\n",
      "8000/8000 [==============================] - 1s 150us/step - loss: 0.3357 - acc: 0.8635\n",
      "Epoch 81/100\n",
      "8000/8000 [==============================] - 1s 152us/step - loss: 0.3357 - acc: 0.8659\n",
      "Epoch 82/100\n",
      "8000/8000 [==============================] - 1s 157us/step - loss: 0.3361 - acc: 0.8634\n",
      "Epoch 83/100\n",
      "8000/8000 [==============================] - 1s 151us/step - loss: 0.3357 - acc: 0.8656\n",
      "Epoch 84/100\n",
      "8000/8000 [==============================] - 1s 152us/step - loss: 0.3354 - acc: 0.8626\n",
      "Epoch 85/100\n",
      "8000/8000 [==============================] - 1s 156us/step - loss: 0.3358 - acc: 0.8639\n",
      "Epoch 86/100\n",
      "8000/8000 [==============================] - 1s 157us/step - loss: 0.3351 - acc: 0.8655\n",
      "Epoch 87/100\n",
      "8000/8000 [==============================] - 1s 156us/step - loss: 0.3362 - acc: 0.8637\n",
      "Epoch 88/100\n",
      "8000/8000 [==============================] - 1s 154us/step - loss: 0.3356 - acc: 0.8644\n",
      "Epoch 89/100\n",
      "8000/8000 [==============================] - 1s 153us/step - loss: 0.3358 - acc: 0.8647\n",
      "Epoch 90/100\n",
      "8000/8000 [==============================] - 1s 154us/step - loss: 0.3353 - acc: 0.8637\n",
      "Epoch 91/100\n",
      "8000/8000 [==============================] - 1s 160us/step - loss: 0.3359 - acc: 0.8639\n",
      "Epoch 92/100\n",
      "8000/8000 [==============================] - 1s 160us/step - loss: 0.3352 - acc: 0.8644\n",
      "Epoch 93/100\n",
      "8000/8000 [==============================] - 1s 156us/step - loss: 0.3359 - acc: 0.8639\n",
      "Epoch 94/100\n",
      "8000/8000 [==============================] - 1s 157us/step - loss: 0.3354 - acc: 0.8644\n",
      "Epoch 95/100\n",
      "8000/8000 [==============================] - 1s 161us/step - loss: 0.3356 - acc: 0.8655\n",
      "Epoch 96/100\n",
      "8000/8000 [==============================] - 1s 152us/step - loss: 0.3359 - acc: 0.8657\n",
      "Epoch 97/100\n",
      "8000/8000 [==============================] - 1s 157us/step - loss: 0.3352 - acc: 0.8639\n",
      "Epoch 98/100\n",
      "8000/8000 [==============================] - 1s 157us/step - loss: 0.3352 - acc: 0.8631\n",
      "Epoch 99/100\n",
      "8000/8000 [==============================] - 1s 154us/step - loss: 0.3353 - acc: 0.8647\n",
      "Epoch 100/100\n",
      "8000/8000 [==============================] - 1s 159us/step - loss: 0.3355 - acc: 0.8646\n"
     ]
    },
    {
     "data": {
      "text/plain": [
       "<keras.callbacks.History at 0x1603b74c780>"
      ]
     },
     "execution_count": 46,
     "metadata": {},
     "output_type": "execute_result"
    }
   ],
   "source": [
    "classifier.fit(X_train,y_train, batch_size=10, epochs = 100)"
   ]
  },
  {
   "cell_type": "code",
   "execution_count": 47,
   "metadata": {},
   "outputs": [],
   "source": [
    "#what would be a good batch size, epochs and number of nodes???"
   ]
  },
  {
   "cell_type": "code",
   "execution_count": 48,
   "metadata": {},
   "outputs": [],
   "source": [
    "#predict the test set result"
   ]
  },
  {
   "cell_type": "code",
   "execution_count": 49,
   "metadata": {},
   "outputs": [],
   "source": [
    "y_pred = classifier.predict(X_test)"
   ]
  },
  {
   "cell_type": "code",
   "execution_count": 50,
   "metadata": {},
   "outputs": [
    {
     "data": {
      "text/plain": [
       "array([0.96851635], dtype=float32)"
      ]
     },
     "execution_count": 50,
     "metadata": {},
     "output_type": "execute_result"
    }
   ],
   "source": [
    "y_pred[9]"
   ]
  },
  {
   "cell_type": "code",
   "execution_count": 51,
   "metadata": {},
   "outputs": [],
   "source": [
    "y_pred = (y_pred > 0.5)"
   ]
  },
  {
   "cell_type": "code",
   "execution_count": 52,
   "metadata": {},
   "outputs": [],
   "source": [
    "from sklearn.metrics import confusion_matrix"
   ]
  },
  {
   "cell_type": "code",
   "execution_count": 53,
   "metadata": {},
   "outputs": [],
   "source": [
    "cm = confusion_matrix(y_test, y_pred)"
   ]
  },
  {
   "cell_type": "code",
   "execution_count": 54,
   "metadata": {},
   "outputs": [
    {
     "data": {
      "text/plain": [
       "array([[1509,   86],\n",
       "       [ 201,  204]], dtype=int64)"
      ]
     },
     "execution_count": 54,
     "metadata": {},
     "output_type": "execute_result"
    }
   ],
   "source": [
    "cm"
   ]
  },
  {
   "cell_type": "code",
   "execution_count": 55,
   "metadata": {},
   "outputs": [
    {
     "data": {
      "text/plain": [
       "0.8445"
      ]
     },
     "execution_count": 55,
     "metadata": {},
     "output_type": "execute_result"
    }
   ],
   "source": [
    "(1534+155)/(1534+155+61+250)"
   ]
  },
  {
   "cell_type": "code",
   "execution_count": null,
   "metadata": {},
   "outputs": [],
   "source": []
  }
 ],
 "metadata": {
  "kernelspec": {
   "display_name": "Python 3",
   "language": "python",
   "name": "python3"
  },
  "language_info": {
   "codemirror_mode": {
    "name": "ipython",
    "version": 3
   },
   "file_extension": ".py",
   "mimetype": "text/x-python",
   "name": "python",
   "nbconvert_exporter": "python",
   "pygments_lexer": "ipython3",
   "version": "3.7.3"
  }
 },
 "nbformat": 4,
 "nbformat_minor": 2
}
